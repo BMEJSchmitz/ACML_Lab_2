{
 "cells": [
  {
   "cell_type": "markdown",
   "id": "60e980c6",
   "metadata": {},
   "source": [
    "# Assignment 2: Convolutional Autoencoders"
   ]
  },
  {
   "cell_type": "markdown",
   "id": "cd624a07",
   "metadata": {},
   "source": [
    "Britt Schmitz  - i6235053 <br>\n",
    "Tabea Heusel - i6323791"
   ]
  },
  {
   "cell_type": "markdown",
   "id": "07a14f7d",
   "metadata": {},
   "source": [
    "## 0 Setup"
   ]
  },
  {
   "cell_type": "markdown",
   "id": "0461913f",
   "metadata": {},
   "source": [
    "### 0.1 Imports"
   ]
  },
  {
   "cell_type": "code",
   "execution_count": 2,
   "outputs": [],
   "source": [
    "%matplotlib inline\n",
    "\n",
    "import tensorflow as tf\n",
    "import numpy as np\n",
    "import matplotlib.pyplot as plt\n",
    "\n",
    "from sklearn.model_selection import train_test_split"
   ],
   "metadata": {
    "collapsed": false,
    "ExecuteTime": {
     "end_time": "2023-11-10T16:33:41.864706600Z",
     "start_time": "2023-11-10T16:33:14.302336700Z"
    }
   },
   "id": "f03549c6923aba81"
  },
  {
   "cell_type": "markdown",
   "id": "2d629696",
   "metadata": {},
   "source": [
    "### 0.2 Loading Dataset"
   ]
  },
  {
   "cell_type": "code",
   "execution_count": 3,
   "outputs": [],
   "source": [
    "(x_train, y_train), (x_test, y_test) = tf.keras.datasets.cifar10.load_data()\n",
    "X = np.append(x_train, x_test, axis=0)\n",
    "y = np.append(y_train, y_test, axis=0)"
   ],
   "metadata": {
    "collapsed": false,
    "ExecuteTime": {
     "end_time": "2023-11-10T16:33:45.109029500Z",
     "start_time": "2023-11-10T16:33:41.866787Z"
    }
   },
   "id": "7700df617805557c"
  },
  {
   "cell_type": "markdown",
   "id": "30340b72",
   "metadata": {},
   "source": [
    "## 1 Autoencoder Network Implementation"
   ]
  },
  {
   "cell_type": "markdown",
   "source": [
    "### 1.1 Train, Validation, and Test "
   ],
   "metadata": {
    "collapsed": false
   },
   "id": "5b849d215066faa1"
  },
  {
   "cell_type": "code",
   "execution_count": 4,
   "id": "a6034f19",
   "metadata": {
    "ExecuteTime": {
     "end_time": "2023-11-10T16:33:49.452695700Z",
     "start_time": "2023-11-10T16:33:45.104204200Z"
    }
   },
   "outputs": [],
   "source": [
    "# normalize\n",
    "X = X / 255\n",
    "\n",
    "# create train, validation, and test splits\n",
    "X_train, X_remaining, y_train, y_remaining = train_test_split(X, y, test_size=0.2, random_state=3)\n",
    "X_val, X_test, y_val, y_test = train_test_split(X_remaining, y_remaining, test_size=0.5, random_state=3)"
   ]
  },
  {
   "cell_type": "markdown",
   "source": [
    "### 1.2 Autoencoder Network"
   ],
   "metadata": {
    "collapsed": false
   },
   "id": "f60f5d8e5b8193ee"
  },
  {
   "cell_type": "code",
   "execution_count": 5,
   "outputs": [],
   "source": [
    "def create_cae():\n",
    "    model = tf.keras.models.Sequential()\n",
    "    \n",
    "    model.add(tf.keras.layers.Conv2D(8, 3, 1, \"same\", activation=\"relu\", input_shape=(32, 32, 3)))\n",
    "    model.add(tf.keras.layers.MaxPool2D(2, padding=\"same\"))\n",
    "    model.add(tf.keras.layers.Conv2D(12, 3, 1, \"same\", activation=\"relu\"))\n",
    "    model.add(tf.keras.layers.MaxPool2D(2, padding=\"same\"))\n",
    "    model.add(tf.keras.layers.Conv2D(16, 3, 1, \"same\", activation=\"relu\"))\n",
    "    model.add(tf.keras.layers.UpSampling2D(2))\n",
    "    model.add(tf.keras.layers.Conv2D(12, 3, 1, \"same\", activation=\"relu\"))\n",
    "    model.add(tf.keras.layers.UpSampling2D(2))\n",
    "    model.add(tf.keras.layers.Conv2D(3, 3, 1, \"same\", activation=\"relu\"))\n",
    "    \n",
    "    return model"
   ],
   "metadata": {
    "collapsed": false,
    "ExecuteTime": {
     "end_time": "2023-11-10T16:33:49.490045200Z",
     "start_time": "2023-11-10T16:33:49.459890100Z"
    }
   },
   "id": "4cf4584172540530"
  },
  {
   "cell_type": "code",
   "execution_count": null,
   "outputs": [],
   "source": [
    "network = create_cae()\n",
    "network.compile(optimizer=\"sgd\", loss=tf.keras.losses.BinaryCrossentropy(), metrics=['accuracy'])\n",
    "history = network.fit(X_train, X_train, epochs=50, validation_data=(X_val, X_val))\n",
    "\n",
    "plt.plot(history.history['loss'])\n",
    "plt.plot(history.history['val_loss'])\n",
    "plt.xlabel('Epochs')\n",
    "plt.ylabel('Binary Crossentropy')\n",
    "plt.title('Evolution of Error During Training')\n",
    "plt.legend(['train', 'validation'], loc='upper left')"
   ],
   "metadata": {
    "collapsed": false,
    "is_executing": true
   },
   "id": "c51daef9c6883b93"
  },
  {
   "cell_type": "code",
   "execution_count": null,
   "outputs": [],
   "source": [
    "results = network.evaluate(X_test, X_test)\n",
    "print(f\"Test accuracy: {results[1]} \\nTest error : {results[0]}\")"
   ],
   "metadata": {
    "collapsed": false,
    "is_executing": true
   },
   "id": "1cedca9c39d12859"
  },
  {
   "cell_type": "code",
   "execution_count": null,
   "outputs": [],
   "source": [
    "predictions = network.predict(X_test)\n",
    "\n",
    "plt.imshow(X_test[0])\n",
    "plt.show()\n",
    "plt.imshow(predictions[0])\n",
    "plt.show()"
   ],
   "metadata": {
    "collapsed": false,
    "is_executing": true
   },
   "id": "1da636778ab31f76"
  },
  {
   "cell_type": "markdown",
   "source": [
    "## 2 Latent Space Representations"
   ],
   "metadata": {
    "collapsed": false
   },
   "id": "417e578829751cae"
  },
  {
   "cell_type": "markdown",
   "source": [
    "### 2.1 Latent Space Size of Previous Network"
   ],
   "metadata": {
    "collapsed": false
   },
   "id": "751a72484bd7596f"
  },
  {
   "cell_type": "code",
   "execution_count": null,
   "outputs": [],
   "source": [
    "def compute_latent_space_size(w, k, p, s, c):\n",
    "    num = w - k + 2 * p\n",
    "    frac = num / s\n",
    "    square = (frac + 1) ** 2\n",
    "    result = square * c\n",
    "    \n",
    "    return result"
   ],
   "metadata": {
    "collapsed": false,
    "is_executing": true
   },
   "id": "1d43d18cdba3bc79"
  },
  {
   "cell_type": "code",
   "execution_count": null,
   "outputs": [],
   "source": [
    "w = 8\n",
    "k = 3\n",
    "p = 1\n",
    "s = 1\n",
    "c = 16\n",
    "\n",
    "print(compute_latent_space_size(w, k, p, s, c))"
   ],
   "metadata": {
    "collapsed": false,
    "is_executing": true
   },
   "id": "9a7661d777a796fe"
  },
  {
   "cell_type": "markdown",
   "source": [
    "### 2.2 Correlation Between Latent Space Representation and Error"
   ],
   "metadata": {
    "collapsed": false
   },
   "id": "14c903f7ef6247dd"
  },
  {
   "cell_type": "code",
   "execution_count": null,
   "outputs": [],
   "source": [
    "def create_cae_fewer_layers():\n",
    "    model = tf.keras.models.Sequential()\n",
    "    \n",
    "    model.add(tf.keras.layers.Conv2D(8, 3, 1, \"same\", activation=\"relu\", input_shape=(32, 32, 3)))\n",
    "    model.add(tf.keras.layers.MaxPool2D(2, padding=\"same\"))\n",
    "    model.add(tf.keras.layers.Conv2D(16, 3, 1, \"same\", activation=\"relu\"))\n",
    "    model.add(tf.keras.layers.UpSampling2D(2))\n",
    "    model.add(tf.keras.layers.Conv2D(3, 3, 1, \"same\", activation=\"relu\"))\n",
    "    \n",
    "    return model"
   ],
   "metadata": {
    "collapsed": false,
    "is_executing": true
   },
   "id": "2fa06e5fe194ba28"
  },
  {
   "cell_type": "code",
   "execution_count": null,
   "outputs": [],
   "source": [
    "def create_cae_more_channels():\n",
    "    model = tf.keras.models.Sequential()\n",
    "    \n",
    "    model.add(tf.keras.layers.Conv2D(16, 3, 1, \"same\", activation=\"relu\", input_shape=(32, 32, 3)))\n",
    "    model.add(tf.keras.layers.MaxPool2D(2, padding=\"same\"))\n",
    "    model.add(tf.keras.layers.Conv2D(24, 3, 1, \"same\", activation=\"relu\"))\n",
    "    model.add(tf.keras.layers.MaxPool2D(2, padding=\"same\"))\n",
    "    model.add(tf.keras.layers.Conv2D(32, 3, 1, \"same\", activation=\"relu\"))\n",
    "    model.add(tf.keras.layers.UpSampling2D(2))\n",
    "    model.add(tf.keras.layers.Conv2D(24, 3, 1, \"same\", activation=\"relu\"))\n",
    "    model.add(tf.keras.layers.UpSampling2D(2))\n",
    "    model.add(tf.keras.layers.Conv2D(3, 3, 1, \"same\", activation=\"relu\"))\n",
    "    \n",
    "    return model"
   ],
   "metadata": {
    "collapsed": false,
    "is_executing": true
   },
   "id": "cfd93d162c45d132"
  },
  {
   "cell_type": "code",
   "execution_count": null,
   "outputs": [],
   "source": [
    "def create_cae_fewer_channels():\n",
    "    model = tf.keras.models.Sequential()\n",
    "    \n",
    "    model.add(tf.keras.layers.Conv2D(4, 3, 1, \"same\", activation=\"relu\", input_shape=(32, 32, 3)))\n",
    "    model.add(tf.keras.layers.MaxPool2D(2, padding=\"same\"))\n",
    "    model.add(tf.keras.layers.Conv2D(6, 3, 1, \"same\", activation=\"relu\"))\n",
    "    model.add(tf.keras.layers.MaxPool2D(2, padding=\"same\"))\n",
    "    model.add(tf.keras.layers.Conv2D(8, 3, 1, \"same\", activation=\"relu\"))\n",
    "    model.add(tf.keras.layers.UpSampling2D(2))\n",
    "    model.add(tf.keras.layers.Conv2D(6, 3, 1, \"same\", activation=\"relu\"))\n",
    "    model.add(tf.keras.layers.UpSampling2D(2))\n",
    "    model.add(tf.keras.layers.Conv2D(3, 3, 1, \"same\", activation=\"relu\"))\n",
    "    \n",
    "    return model"
   ],
   "metadata": {
    "collapsed": false,
    "is_executing": true
   },
   "id": "15dabe8b2a1717f"
  },
  {
   "cell_type": "code",
   "execution_count": null,
   "outputs": [],
   "source": [
    "def create_cae_bigger_filter():\n",
    "    model = tf.keras.models.Sequential()\n",
    "    \n",
    "    model.add(tf.keras.layers.Conv2D(8, 5, 1, \"same\", activation=\"relu\", input_shape=(32, 32, 3)))\n",
    "    model.add(tf.keras.layers.MaxPool2D(2, padding=\"same\"))\n",
    "    model.add(tf.keras.layers.Conv2D(12, 5, 1, \"same\", activation=\"relu\"))\n",
    "    model.add(tf.keras.layers.MaxPool2D(2, padding=\"same\"))\n",
    "    model.add(tf.keras.layers.Conv2D(16, 5, 1, \"same\", activation=\"relu\"))\n",
    "    model.add(tf.keras.layers.UpSampling2D(2))\n",
    "    model.add(tf.keras.layers.Conv2D(12, 5, 1, \"same\", activation=\"relu\"))\n",
    "    model.add(tf.keras.layers.UpSampling2D(2))\n",
    "    model.add(tf.keras.layers.Conv2D(3, 5, 1, \"same\", activation=\"relu\"))\n",
    "    \n",
    "    return model"
   ],
   "metadata": {
    "collapsed": false,
    "is_executing": true
   },
   "id": "1f485722b403aa4a"
  },
  {
   "cell_type": "code",
   "execution_count": null,
   "outputs": [],
   "source": [
    "def create_cae_bigger_stride():\n",
    "    model = tf.keras.models.Sequential()\n",
    "    \n",
    "    model.add(tf.keras.layers.Conv2D(8, 3, 2, \"same\", activation=\"relu\", input_shape=(32, 32, 3)))\n",
    "    model.add(tf.keras.layers.MaxPool2D(2, padding=\"same\"))\n",
    "    model.add(tf.keras.layers.Conv2D(12, 3, 2, \"same\", activation=\"relu\"))\n",
    "    model.add(tf.keras.layers.MaxPool2D(2, padding=\"same\"))\n",
    "    model.add(tf.keras.layers.Conv2D(16, 3, 2, \"same\", activation=\"relu\"))\n",
    "    model.add(tf.keras.layers.UpSampling2D(2))\n",
    "    model.add(tf.keras.layers.Conv2D(12, 3, 2, \"same\", activation=\"relu\"))\n",
    "    model.add(tf.keras.layers.UpSampling2D(2))\n",
    "    model.add(tf.keras.layers.Conv2D(3, 3, 2, \"same\", activation=\"relu\"))\n",
    "    \n",
    "    return model"
   ],
   "metadata": {
    "collapsed": false,
    "is_executing": true
   },
   "id": "fe35daacb5197afa"
  },
  {
   "cell_type": "code",
   "execution_count": null,
   "outputs": [],
   "source": [
    "def create_cae_valid_padding():\n",
    "    model = tf.keras.models.Sequential()\n",
    "    \n",
    "    model.add(tf.keras.layers.Conv2D(8, 3, 1, \"valid\", activation=\"relu\", input_shape=(32, 32, 3)))\n",
    "    model.add(tf.keras.layers.MaxPool2D(2, padding=\"valid\"))\n",
    "    model.add(tf.keras.layers.Conv2D(12, 3, 1, \"valid\", activation=\"relu\"))\n",
    "    model.add(tf.keras.layers.MaxPool2D(2, padding=\"valid\"))\n",
    "    model.add(tf.keras.layers.Conv2D(16, 3, 1, \"valid\", activation=\"relu\"))\n",
    "    model.add(tf.keras.layers.UpSampling2D(3))\n",
    "    model.add(tf.keras.layers.Conv2D(12, 3, 1, \"valid\", activation=\"relu\"))\n",
    "    model.add(tf.keras.layers.UpSampling2D(4))\n",
    "    model.add(tf.keras.layers.Conv2D(3, 3, 1, \"valid\", activation=\"relu\"))\n",
    "    \n",
    "    return model"
   ],
   "metadata": {
    "collapsed": false,
    "is_executing": true
   },
   "id": "fe1d945bb56b520f"
  },
  {
   "cell_type": "code",
   "execution_count": null,
   "outputs": [],
   "source": [
    "def experiment(model, model_name):\n",
    "    print(f\"Experimenting with {model_name} model: \\n\")\n",
    "    model.compile(optimizer=\"sgd\", loss=tf.keras.losses.BinaryCrossentropy(), metrics=['accuracy'])\n",
    "    history = model.fit(X_train, X_train, epochs=1, validation_data=(X_val, X_val))\n",
    "    \n",
    "    plt.plot(history.history['loss'])\n",
    "    plt.plot(history.history['val_loss'])\n",
    "    plt.xlabel('Epochs')\n",
    "    plt.ylabel('Binary Crossentropy')\n",
    "    plt.title('Evolution of Error During Training')\n",
    "    plt.legend(['train', 'validation'], loc='upper left')\n",
    "    plt.show()\n",
    "    \n",
    "    results = network.evaluate(X_test, X_test)\n",
    "    print(f\"Test accuracy: {results[1]} \\nTest error : {results[0]}\")\n",
    "    \n",
    "    predictions = network.predict(X_test)\n",
    "    plt.imshow(X_test[0])\n",
    "    plt.show()\n",
    "    plt.imshow(predictions[0])\n",
    "    plt.show()"
   ],
   "metadata": {
    "collapsed": false,
    "is_executing": true
   },
   "id": "f4679957a388ad27"
  },
  {
   "cell_type": "code",
   "execution_count": null,
   "outputs": [],
   "source": [
    "models = [create_cae_fewer_layers(), \n",
    "          create_cae_more_channels(),\n",
    "          create_cae_fewer_channels(),\n",
    "          create_cae_bigger_filter(),\n",
    "          create_cae_bigger_stride(),\n",
    "#          create_cae_valid_padding()\n",
    "          ]\n",
    "\n",
    "model_names = [\"fewer layers\",\n",
    "               \"more channels\",\n",
    "               \"fewer channels\",\n",
    "               \"bigger filter\",\n",
    "               \"bigger stride\",\n",
    "#               \"different padding\"\n",
    "               ]\n",
    "\n",
    "for i in range(0, len(models)):\n",
    "    experiment(models[i], model_names[i])"
   ],
   "metadata": {
    "collapsed": false,
    "is_executing": true
   },
   "id": "1180caff1d520164"
  },
  {
   "cell_type": "code",
   "execution_count": null,
   "outputs": [],
   "source": [
    "print(f\"Latent space sizes: \\n\"\n",
    "      f\"- Fewer Layer: {compute_latent_space_size(16, 3, 1, 1, 16)} \\n\"\n",
    "      f\"- More Channels: {compute_latent_space_size(8, 3, 1, 1, 32)} \\n\"\n",
    "      f\"- Fewer Channels: {compute_latent_space_size(8, 3, 1, 1, 8)} \\n\"\n",
    "      f\"- Bigger Filter: {compute_latent_space_size(8, 5, 1, 1, 16)} \\n\"\n",
    "      f\"- Bigger Stride: {compute_latent_space_size(2, 3, 1, 2, 16)} \\n\")"
   ],
   "metadata": {
    "collapsed": false,
    "is_executing": true
   },
   "id": "5ac92f48042b4403"
  },
  {
   "cell_type": "code",
   "execution_count": null,
   "outputs": [],
   "source": [],
   "metadata": {
    "collapsed": false,
    "is_executing": true
   },
   "id": "84d93e7bdf98d020"
  }
 ],
 "metadata": {
  "kernelspec": {
   "display_name": "Python 3",
   "language": "python",
   "name": "python3"
  },
  "language_info": {
   "codemirror_mode": {
    "name": "ipython",
    "version": 3
   },
   "file_extension": ".py",
   "mimetype": "text/x-python",
   "name": "python",
   "nbconvert_exporter": "python",
   "pygments_lexer": "ipython3",
   "version": "3.8.8"
  }
 },
 "nbformat": 4,
 "nbformat_minor": 5
}
