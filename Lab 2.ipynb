{
 "cells": [
  {
   "cell_type": "markdown",
   "id": "60e980c6",
   "metadata": {},
   "source": [
    "# Assignment 2: Convolutional Autoencoders"
   ]
  },
  {
   "cell_type": "markdown",
   "id": "cd624a07",
   "metadata": {},
   "source": [
    "Britt Schmitz  - i6235053 <br>\n",
    "Tabea Heusel - i6323791"
   ]
  },
  {
   "cell_type": "markdown",
   "id": "07a14f7d",
   "metadata": {},
   "source": [
    "## 0 Setup"
   ]
  },
  {
   "cell_type": "markdown",
   "id": "0461913f",
   "metadata": {},
   "source": [
    "### 0.1 Imports"
   ]
  },
  {
   "cell_type": "code",
   "execution_count": 51,
   "outputs": [],
   "source": [
    "%matplotlib inline\n",
    "\n",
    "import tensorflow as tf\n",
    "import numpy as np\n",
    "import matplotlib.pyplot as plt\n",
    "\n",
    "from sklearn.model_selection import train_test_split"
   ],
   "metadata": {
    "collapsed": false,
    "ExecuteTime": {
     "end_time": "2023-11-09T14:45:00.069864300Z",
     "start_time": "2023-11-09T14:44:57.722816300Z"
    }
   },
   "id": "f03549c6923aba81"
  },
  {
   "cell_type": "markdown",
   "id": "2d629696",
   "metadata": {},
   "source": [
    "### 0.2 Loading Dataset"
   ]
  },
  {
   "cell_type": "code",
   "execution_count": 18,
   "outputs": [],
   "source": [
    "(x_train, y_train), (x_test, y_test) = tf.keras.datasets.cifar10.load_data()\n",
    "X = np.append(x_train, x_test, axis=0)\n",
    "y = np.append(y_train, y_test, axis=0)"
   ],
   "metadata": {
    "collapsed": false,
    "ExecuteTime": {
     "end_time": "2023-11-09T12:50:26.549670900Z",
     "start_time": "2023-11-09T12:50:25.858358600Z"
    }
   },
   "id": "7700df617805557c"
  },
  {
   "cell_type": "markdown",
   "id": "30340b72",
   "metadata": {},
   "source": [
    "## 1 Autoencoder Network Implementation"
   ]
  },
  {
   "cell_type": "markdown",
   "source": [
    "### 1.1 Train, Validation, and Test "
   ],
   "metadata": {
    "collapsed": false
   },
   "id": "5b849d215066faa1"
  },
  {
   "cell_type": "code",
   "execution_count": 34,
   "id": "a6034f19",
   "metadata": {
    "ExecuteTime": {
     "end_time": "2023-11-09T14:16:27.532433100Z",
     "start_time": "2023-11-09T14:16:24.233314400Z"
    }
   },
   "outputs": [],
   "source": [
    "# normalize\n",
    "X = X / 255\n",
    "\n",
    "# create train, validation, and test splits\n",
    "X_train, X_remaining, y_train, y_remaining = train_test_split(X, y, test_size=0.2, random_state=3)\n",
    "X_val, X_test, y_val, y_test = train_test_split(X_remaining, y_remaining, test_size=0.5, random_state=3)"
   ]
  },
  {
   "cell_type": "markdown",
   "source": [
    "### 1.2 Autoencoder Network"
   ],
   "metadata": {
    "collapsed": false
   },
   "id": "f60f5d8e5b8193ee"
  },
  {
   "cell_type": "code",
   "execution_count": 58,
   "outputs": [],
   "source": [
    "def create_cae():\n",
    "    model = tf.keras.models.Sequential()\n",
    "    \n",
    "    model.add(tf.keras.layers.Conv2D(8, 3, 1, \"same\", activation=\"relu\", input_shape=(32, 32, 3)))\n",
    "    model.add(tf.keras.layers.MaxPool2D(2, padding=\"same\"))\n",
    "    model.add(tf.keras.layers.Conv2D(12, 3, 1, \"same\", activation=\"relu\"))\n",
    "    model.add(tf.keras.layers.MaxPool2D(2, padding=\"same\"))\n",
    "    model.add(tf.keras.layers.Conv2D(16, 3, 1, \"same\", activation=\"relu\"))\n",
    "    model.add(tf.keras.layers.UpSampling2D(2))\n",
    "    model.add(tf.keras.layers.Conv2D(12, 3, 1, \"same\", activation=\"relu\"))\n",
    "    model.add(tf.keras.layers.UpSampling2D(2))\n",
    "    model.add(tf.keras.layers.Conv2D(3, 3, 1, \"same\", activation=\"relu\"))\n",
    "    \n",
    "    return model"
   ],
   "metadata": {
    "collapsed": false,
    "ExecuteTime": {
     "end_time": "2023-11-09T14:53:14.102033800Z",
     "start_time": "2023-11-09T14:53:14.078968400Z"
    }
   },
   "id": "4cf4584172540530"
  },
  {
   "cell_type": "code",
   "execution_count": null,
   "outputs": [
    {
     "name": "stdout",
     "output_type": "stream",
     "text": [
      "Epoch 1/50\n",
      " 341/1500 [=====>........................] - ETA: 43s - loss: 0.6512 - accuracy: 0.3725"
     ]
    }
   ],
   "source": [
    "network = create_cae()\n",
    "network.compile(optimizer=\"sgd\", loss=tf.keras.losses.BinaryCrossentropy(), metrics=['accuracy'])\n",
    "history = network.fit(X_train, X_train, epochs=50, validation_data=(X_val, X_val))\n",
    "\n",
    "plt.plot(history.history['loss'])\n",
    "plt.plot(history.history['val_loss'])\n",
    "plt.xlabel('Epochs')\n",
    "plt.ylabel('Binary Crossentropy')\n",
    "plt.title('Evolution of Error During Training')\n",
    "plt.legend(['train', 'validation'], loc='upper left')"
   ],
   "metadata": {
    "collapsed": false,
    "is_executing": true,
    "ExecuteTime": {
     "start_time": "2023-11-09T15:42:34.700497600Z"
    }
   },
   "id": "c51daef9c6883b93"
  },
  {
   "cell_type": "code",
   "execution_count": null,
   "outputs": [],
   "source": [
    "results = network.evaluate(X_test, X_test)\n",
    "print(f\"Test accuracy: {results[1]} \\n Test error : {results[0]}\")"
   ],
   "metadata": {
    "collapsed": false,
    "is_executing": true
   },
   "id": "1cedca9c39d12859"
  },
  {
   "cell_type": "code",
   "execution_count": null,
   "outputs": [],
   "source": [
    "predictions = network.predict(X_test)\n",
    "\n",
    "plt.imshow(X_test[5])\n",
    "plt.show()\n",
    "plt.imshow(predictions[5])\n",
    "plt.show()"
   ],
   "metadata": {
    "collapsed": false,
    "is_executing": true
   },
   "id": "1da636778ab31f76"
  },
  {
   "cell_type": "code",
   "execution_count": null,
   "outputs": [],
   "source": [],
   "metadata": {
    "collapsed": false
   },
   "id": "d0fcb3c423c80aac"
  }
 ],
 "metadata": {
  "kernelspec": {
   "display_name": "Python 3",
   "language": "python",
   "name": "python3"
  },
  "language_info": {
   "codemirror_mode": {
    "name": "ipython",
    "version": 3
   },
   "file_extension": ".py",
   "mimetype": "text/x-python",
   "name": "python",
   "nbconvert_exporter": "python",
   "pygments_lexer": "ipython3",
   "version": "3.8.8"
  }
 },
 "nbformat": 4,
 "nbformat_minor": 5
}
