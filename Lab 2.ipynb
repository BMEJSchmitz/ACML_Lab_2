{
 "cells": [
  {
   "cell_type": "markdown",
   "id": "60e980c6",
   "metadata": {},
   "source": [
    "# Assignment 2: Convolutional Autoencoders"
   ]
  },
  {
   "cell_type": "markdown",
   "id": "cd624a07",
   "metadata": {},
   "source": [
    "Britt Schmitz  - i6235053 <br>\n",
    "Tabea Heusel - i6323791"
   ]
  },
  {
   "cell_type": "markdown",
   "id": "07a14f7d",
   "metadata": {},
   "source": [
    "## 0 Setup"
   ]
  },
  {
   "cell_type": "markdown",
   "id": "0461913f",
   "metadata": {},
   "source": [
    "### 0.1 Imports"
   ]
  },
  {
   "cell_type": "code",
   "execution_count": 20,
   "outputs": [],
   "source": [
    "import tensorflow as tf\n",
    "import numpy as np\n",
    "\n",
    "from sklearn.model_selection import train_test_split"
   ],
   "metadata": {
    "collapsed": false,
    "ExecuteTime": {
     "end_time": "2023-11-09T12:50:43.538568600Z",
     "start_time": "2023-11-09T12:50:42.859085700Z"
    }
   },
   "id": "f03549c6923aba81"
  },
  {
   "cell_type": "markdown",
   "id": "2d629696",
   "metadata": {},
   "source": [
    "### 0.2 Loading Dataset"
   ]
  },
  {
   "cell_type": "code",
   "execution_count": 18,
   "outputs": [],
   "source": [
    "(x_train, y_train), (x_test, y_test) = tf.keras.datasets.cifar10.load_data()\n",
    "X = np.append(x_train, x_test, axis=0)\n",
    "y = np.append(y_train, y_test, axis=0)"
   ],
   "metadata": {
    "collapsed": false,
    "ExecuteTime": {
     "end_time": "2023-11-09T12:50:26.549670900Z",
     "start_time": "2023-11-09T12:50:25.858358600Z"
    }
   },
   "id": "7700df617805557c"
  },
  {
   "cell_type": "markdown",
   "id": "30340b72",
   "metadata": {},
   "source": [
    "## 1 Autoencoder Network Implementation"
   ]
  },
  {
   "cell_type": "markdown",
   "source": [
    "### 1.1 Train, Validation, and Test "
   ],
   "metadata": {
    "collapsed": false
   },
   "id": "5b849d215066faa1"
  },
  {
   "cell_type": "code",
   "execution_count": 24,
   "id": "a6034f19",
   "metadata": {
    "ExecuteTime": {
     "end_time": "2023-11-09T12:52:37.528753400Z",
     "start_time": "2023-11-09T12:52:37.359584300Z"
    }
   },
   "outputs": [],
   "source": [
    "X_train, X_remaining, y_train, y_remaining = train_test_split(X, y, test_size=0.2, random_state=3)\n",
    "X_val, X_test, y_val, y_test = train_test_split(X_remaining, y_remaining, test_size=0.5, random_state=3)"
   ]
  },
  {
   "cell_type": "markdown",
   "source": [
    "### 1.2 Autoencoder Network"
   ],
   "metadata": {
    "collapsed": false
   },
   "id": "f60f5d8e5b8193ee"
  },
  {
   "cell_type": "code",
   "execution_count": null,
   "outputs": [],
   "source": [],
   "metadata": {
    "collapsed": false
   },
   "id": "4cf4584172540530"
  }
 ],
 "metadata": {
  "kernelspec": {
   "display_name": "Python 3",
   "language": "python",
   "name": "python3"
  },
  "language_info": {
   "codemirror_mode": {
    "name": "ipython",
    "version": 3
   },
   "file_extension": ".py",
   "mimetype": "text/x-python",
   "name": "python",
   "nbconvert_exporter": "python",
   "pygments_lexer": "ipython3",
   "version": "3.8.8"
  }
 },
 "nbformat": 4,
 "nbformat_minor": 5
}
