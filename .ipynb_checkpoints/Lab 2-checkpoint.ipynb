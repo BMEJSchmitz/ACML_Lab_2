{
 "cells": [
  {
   "cell_type": "markdown",
   "id": "60e980c6",
   "metadata": {},
   "source": [
    "# Assignment 2: Convolutional Autoencoders"
   ]
  },
  {
   "cell_type": "markdown",
   "id": "cd624a07",
   "metadata": {},
   "source": [
    "Britt Schmitz  - i6235053 <br>\n",
    "Tabea Heusel - i6323791"
   ]
  },
  {
   "cell_type": "markdown",
   "id": "07a14f7d",
   "metadata": {},
   "source": [
    "## 0 Setup"
   ]
  },
  {
   "cell_type": "markdown",
   "id": "0461913f",
   "metadata": {},
   "source": [
    "### 0.1 Imports"
   ]
  },
  {
   "cell_type": "markdown",
   "id": "2d629696",
   "metadata": {},
   "source": [
    "### 0.2 Loading Dataset"
   ]
  },
  {
   "cell_type": "markdown",
   "id": "30340b72",
   "metadata": {},
   "source": [
    "## 1 Autoencoder Network Implementation"
   ]
  },
  {
   "cell_type": "code",
   "execution_count": null,
   "id": "8167de20",
   "metadata": {},
   "outputs": [],
   "source": []
  },
  {
   "cell_type": "code",
   "execution_count": null,
   "id": "a6034f19",
   "metadata": {},
   "outputs": [],
   "source": []
  }
 ],
 "metadata": {
  "kernelspec": {
   "display_name": "Python 3",
   "language": "python",
   "name": "python3"
  },
  "language_info": {
   "codemirror_mode": {
    "name": "ipython",
    "version": 3
   },
   "file_extension": ".py",
   "mimetype": "text/x-python",
   "name": "python",
   "nbconvert_exporter": "python",
   "pygments_lexer": "ipython3",
   "version": "3.8.8"
  }
 },
 "nbformat": 4,
 "nbformat_minor": 5
}
